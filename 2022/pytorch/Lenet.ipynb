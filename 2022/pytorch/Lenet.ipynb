{
  "nbformat": 4,
  "nbformat_minor": 0,
  "metadata": {
    "colab": {
      "provenance": [],
      "authorship_tag": "ABX9TyPruNPNgiItUug7spQahD2K",
      "include_colab_link": true
    },
    "kernelspec": {
      "name": "python3",
      "display_name": "Python 3"
    },
    "language_info": {
      "name": "python"
    }
  },
  "cells": [
    {
      "cell_type": "markdown",
      "metadata": {
        "id": "view-in-github",
        "colab_type": "text"
      },
      "source": [
        "<a href=\"https://colab.research.google.com/github/jsjang00/Pytorch/blob/main/Lenet.ipynb\" target=\"_parent\"><img src=\"https://colab.research.google.com/assets/colab-badge.svg\" alt=\"Open In Colab\"/></a>"
      ]
    },
    {
      "cell_type": "code",
      "execution_count": null,
      "metadata": {
        "id": "Es0xG5SFGqwK"
      },
      "outputs": [],
      "source": [
        "import torch\n",
        "import torchvision\n",
        "from torch.utils.data import DataLoader, Dataset\n",
        "from torchvision import transforms\n",
        "from torch.autograd import Variable\n",
        "from torch import optim\n",
        "import torch.nn as nn\n",
        "import torch.nn.functional as F\n",
        "import os\n",
        "import cv2\n",
        "from PIL import Image\n",
        "from tqdm import tqdm_notebook as tqdm\n",
        "import random\n",
        "from matplotlib import pyplot as plt\n",
        "\n",
        "device = torch.device(\"cuda:0\" if torch.cuda.is_available() else \"cpu\")\n",
        "\n",
        "from google.colab import files # 데이터 불러오기\n",
        "file_uploaded=files.upload()   # chap06/data/dogs-vs-cats.zip 데이터 불러오기\n",
        "!unzip dogs-vs-cats.zip -d dogs-vs-cats/  #dogs-vs-cats 폴더 만들어 압축 풀기\n"
      ]
    },
    {
      "cell_type": "code",
      "source": [
        "#file path\n",
        "cat_directory = 'dogs-vs-cats/Cat/'\n",
        "dog_directory = 'dogs-vs-cats/Dog/'\n",
        "\n",
        "cat_images_filepaths = sorted([os.path.join(cat_directory, f) for f in os.listdir(cat_directory)])   #os.listdir:지정 디렉토리 안 모든 파일 리스트 반환\n",
        "dog_images_filepaths = sorted([os.path.join(dog_directory, f) for f in os.listdir(dog_directory)]) #os.path.join:두 경로를 이어붙임\n",
        "images_filepaths = [*cat_images_filepaths, *dog_images_filepaths]    \n",
        "correct_images_filepaths = [i for i in images_filepaths if cv2.imread(i) is not None]    #더 이상 데이터를 찾을 수 없을 때까지\n",
        "print((correct_images_filepaths==images_filepaths))\n",
        "\n",
        "random.seed(42)    \n",
        "random.shuffle(correct_images_filepaths)\n",
        "#train_images_filepaths = correct_images_filepaths[:20000]  #훈련 데이터셋의 확장\n",
        "#val_images_filepaths = correct_images_filepaths[20000:-10] #훈련과 함께 검증도 늘려줘야 함\n",
        "train_images_filepaths = correct_images_filepaths[:400]    \n",
        "val_images_filepaths = correct_images_filepaths[400:-10]  \n",
        "test_images_filepaths = correct_images_filepaths[-10:]    \n",
        "print(len(train_images_filepaths), len(val_images_filepaths), len(test_images_filepaths))"
      ],
      "metadata": {
        "id": "zx6cmR-oG7CS"
      },
      "execution_count": null,
      "outputs": []
    },
    {
      "cell_type": "code",
      "source": [
        "#이미지 테스트 출력\n",
        "def display_image_grid(images_filepaths, predicted_labels=(), cols=5):\n",
        "    rows = len(images_filepaths) // cols\n",
        "    figure, ax = plt.subplots(nrows=rows, ncols=cols, figsize=(12, 6))\n",
        "    for i, image_filepath in enumerate(images_filepaths):\n",
        "        image = cv2.imread(image_filepath)\n",
        "        image = cv2.cvtColor(image, cv2.COLOR_BGR2RGB) #BGR -> RGB\n",
        "        true_label = os.path.normpath(image_filepath).split(os.sep)[-2] #이미지 경로를 정규화,'\\'나 '/'를 기준으로 분할\n",
        "        predicted_label = predicted_labels[i] if predicted_labels else true_label #true_label == predicted_label\n",
        "        print(predicted_labels,true_label)\n",
        "        color = \"green\" if true_label == predicted_label else \"red\"\n",
        "        ax.ravel()[i].imshow(image)\n",
        "        ax.ravel()[i].set_title(predicted_label, color=color)\n",
        "        ax.ravel()[i].set_axis_off()\n",
        "    plt.tight_layout()\n",
        "    plt.show()"
      ],
      "metadata": {
        "id": "0InznIDKG9lF"
      },
      "execution_count": null,
      "outputs": []
    },
    {
      "cell_type": "code",
      "source": [
        "display_image_grid(test_images_filepaths)"
      ],
      "metadata": {
        "id": "_ziX_Pi8HFcS"
      },
      "execution_count": null,
      "outputs": []
    },
    {
      "cell_type": "code",
      "source": [
        "class ImageTransform():    \n",
        "    def __init__(self, resize, mean, std):\n",
        "        self.data_transform = {\n",
        "            'train': transforms.Compose([\n",
        "                transforms.RandomResizedCrop(resize, scale=(0.5, 1.0)),\n",
        "                transforms.RandomHorizontalFlip(),\n",
        "                transforms.ToTensor(),\n",
        "                transforms.Normalize(mean, std)\n",
        "            ]),\n",
        "            'val': transforms.Compose([\n",
        "                transforms.Resize(256),\n",
        "                transforms.CenterCrop(resize),\n",
        "                transforms.ToTensor(),\n",
        "                transforms.Normalize(mean, std)\n",
        "            ])\n",
        "        }\n",
        "        \n",
        "    def __call__(self, img, phase):\n",
        "        return self.data_transform[phase](img) #transforms.Compose([])자체가 클래스?"
      ],
      "metadata": {
        "id": "zmvUQzizHHFJ"
      },
      "execution_count": null,
      "outputs": []
    },
    {
      "cell_type": "code",
      "source": [
        "class DogvsCatDataset(Dataset):    \n",
        "    def __init__(self, file_list, transform=None, phase='train'):    \n",
        "        self.file_list = file_list\n",
        "        self.transform = transform\n",
        "        self.phase = phase\n",
        "        \n",
        "    def __len__(self):\n",
        "        return len(self.file_list)\n",
        "    \n",
        "    def __getitem__(self, idx):       \n",
        "        img_path = self.file_list[idx]\n",
        "        img = Image.open(img_path)        \n",
        "        img_transformed = self.transform(img, self.phase)\n",
        "        \n",
        "        label = img_path.split('/')[-1].split('.')[0]\n",
        "        if label == 'dog':\n",
        "            label = 1\n",
        "        elif label == 'cat':\n",
        "            label = 0\n",
        "        return img_transformed, label"
      ],
      "metadata": {
        "id": "K7MoBoSnHJK-"
      },
      "execution_count": null,
      "outputs": []
    },
    {
      "cell_type": "code",
      "source": [
        "#parameters\n",
        "size = 224\n",
        "mean = (0.485, 0.456, 0.406)\n",
        "std = (0.229, 0.224, 0.225)\n",
        "batch_size = 32"
      ],
      "metadata": {
        "id": "emlB_YdiHLAG"
      },
      "execution_count": null,
      "outputs": []
    },
    {
      "cell_type": "code",
      "source": [
        "#Dataset 전처리 실행\n",
        "train_dataset = DogvsCatDataset(train_images_filepaths, transform=ImageTransform(size, mean, std), phase='train')\n",
        "val_dataset = DogvsCatDataset(val_images_filepaths, transform=ImageTransform(size, mean, std), phase='val')\n",
        "#x = Image.open(train_images_filepaths[0])\n",
        "#model = ImageTransform(size, mean, std)\n",
        "#net = model.data_transform['train']\n",
        "#n = net(x)\n",
        "print(train_dataset.__len__())\n",
        "index = 0\n",
        "print(train_dataset.__getitem__(index)[0].size()) #0번째 이미지의 img_transformed 의 size\n",
        "print(train_dataset.__getitem__(index)[1])"
      ],
      "metadata": {
        "id": "DBSj6Ab6HMiR"
      },
      "execution_count": null,
      "outputs": []
    },
    {
      "cell_type": "code",
      "source": [
        "#trainset 이후에 trainloader를 정의한다.\n",
        "train_dataloader = DataLoader(train_dataset, batch_size=batch_size, shuffle=True)\n",
        "val_dataloader = DataLoader(val_dataset, batch_size=batch_size, shuffle=False)\n",
        "dataloader_dict = {'train': train_dataloader, 'val': val_dataloader}\n",
        "\n",
        "batch_iterator = iter(train_dataloader)\n",
        "inputs, label = next(batch_iterator)\n",
        "print(inputs.size())\n",
        "print(label)"
      ],
      "metadata": {
        "id": "Kox6xf2zHSur"
      },
      "execution_count": null,
      "outputs": []
    }
  ]
}